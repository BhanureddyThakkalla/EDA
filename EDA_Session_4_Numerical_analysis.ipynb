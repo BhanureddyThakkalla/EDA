{
 "cells": [
  {
   "cell_type": "code",
   "execution_count": 1,
   "id": "fb918a7c-97f3-4125-b2f3-901fd299f505",
   "metadata": {},
   "outputs": [],
   "source": [
    "import pandas as pd\n",
    "import numpy as np\n",
    "import matplotlib.pyplot as plt\n",
    "import seaborn as sns"
   ]
  },
  {
   "cell_type": "code",
   "execution_count": 2,
   "id": "693c2f66-7b44-4310-af3d-f86b085aea90",
   "metadata": {},
   "outputs": [
    {
     "data": {
      "text/html": [
       "<div>\n",
       "<style scoped>\n",
       "    .dataframe tbody tr th:only-of-type {\n",
       "        vertical-align: middle;\n",
       "    }\n",
       "\n",
       "    .dataframe tbody tr th {\n",
       "        vertical-align: top;\n",
       "    }\n",
       "\n",
       "    .dataframe thead th {\n",
       "        text-align: right;\n",
       "    }\n",
       "</style>\n",
       "<table border=\"1\" class=\"dataframe\">\n",
       "  <thead>\n",
       "    <tr style=\"text-align: right;\">\n",
       "      <th></th>\n",
       "      <th>case_id</th>\n",
       "      <th>continent</th>\n",
       "      <th>education_of_employee</th>\n",
       "      <th>has_job_experience</th>\n",
       "      <th>requires_job_training</th>\n",
       "      <th>no_of_employees</th>\n",
       "      <th>yr_of_estab</th>\n",
       "      <th>region_of_employment</th>\n",
       "      <th>prevailing_wage</th>\n",
       "      <th>unit_of_wage</th>\n",
       "      <th>full_time_position</th>\n",
       "      <th>case_status</th>\n",
       "    </tr>\n",
       "  </thead>\n",
       "  <tbody>\n",
       "    <tr>\n",
       "      <th>0</th>\n",
       "      <td>EZYV01</td>\n",
       "      <td>Asia</td>\n",
       "      <td>High School</td>\n",
       "      <td>N</td>\n",
       "      <td>N</td>\n",
       "      <td>14513</td>\n",
       "      <td>2007</td>\n",
       "      <td>West</td>\n",
       "      <td>592.2029</td>\n",
       "      <td>Hour</td>\n",
       "      <td>Y</td>\n",
       "      <td>Denied</td>\n",
       "    </tr>\n",
       "    <tr>\n",
       "      <th>1</th>\n",
       "      <td>EZYV02</td>\n",
       "      <td>Asia</td>\n",
       "      <td>Master's</td>\n",
       "      <td>Y</td>\n",
       "      <td>N</td>\n",
       "      <td>2412</td>\n",
       "      <td>2002</td>\n",
       "      <td>Northeast</td>\n",
       "      <td>83425.6500</td>\n",
       "      <td>Year</td>\n",
       "      <td>Y</td>\n",
       "      <td>Certified</td>\n",
       "    </tr>\n",
       "    <tr>\n",
       "      <th>2</th>\n",
       "      <td>EZYV03</td>\n",
       "      <td>Asia</td>\n",
       "      <td>Bachelor's</td>\n",
       "      <td>N</td>\n",
       "      <td>Y</td>\n",
       "      <td>44444</td>\n",
       "      <td>2008</td>\n",
       "      <td>West</td>\n",
       "      <td>122996.8600</td>\n",
       "      <td>Year</td>\n",
       "      <td>Y</td>\n",
       "      <td>Denied</td>\n",
       "    </tr>\n",
       "    <tr>\n",
       "      <th>3</th>\n",
       "      <td>EZYV04</td>\n",
       "      <td>Asia</td>\n",
       "      <td>Bachelor's</td>\n",
       "      <td>N</td>\n",
       "      <td>N</td>\n",
       "      <td>98</td>\n",
       "      <td>1897</td>\n",
       "      <td>West</td>\n",
       "      <td>83434.0300</td>\n",
       "      <td>Year</td>\n",
       "      <td>Y</td>\n",
       "      <td>Denied</td>\n",
       "    </tr>\n",
       "    <tr>\n",
       "      <th>4</th>\n",
       "      <td>EZYV05</td>\n",
       "      <td>Africa</td>\n",
       "      <td>Master's</td>\n",
       "      <td>Y</td>\n",
       "      <td>N</td>\n",
       "      <td>1082</td>\n",
       "      <td>2005</td>\n",
       "      <td>South</td>\n",
       "      <td>149907.3900</td>\n",
       "      <td>Year</td>\n",
       "      <td>Y</td>\n",
       "      <td>Certified</td>\n",
       "    </tr>\n",
       "  </tbody>\n",
       "</table>\n",
       "</div>"
      ],
      "text/plain": [
       "  case_id continent education_of_employee has_job_experience  \\\n",
       "0  EZYV01      Asia           High School                  N   \n",
       "1  EZYV02      Asia              Master's                  Y   \n",
       "2  EZYV03      Asia            Bachelor's                  N   \n",
       "3  EZYV04      Asia            Bachelor's                  N   \n",
       "4  EZYV05    Africa              Master's                  Y   \n",
       "\n",
       "  requires_job_training  no_of_employees  yr_of_estab region_of_employment  \\\n",
       "0                     N            14513         2007                 West   \n",
       "1                     N             2412         2002            Northeast   \n",
       "2                     Y            44444         2008                 West   \n",
       "3                     N               98         1897                 West   \n",
       "4                     N             1082         2005                South   \n",
       "\n",
       "   prevailing_wage unit_of_wage full_time_position case_status  \n",
       "0         592.2029         Hour                  Y      Denied  \n",
       "1       83425.6500         Year                  Y   Certified  \n",
       "2      122996.8600         Year                  Y      Denied  \n",
       "3       83434.0300         Year                  Y      Denied  \n",
       "4      149907.3900         Year                  Y   Certified  "
      ]
     },
     "execution_count": 2,
     "metadata": {},
     "output_type": "execute_result"
    }
   ],
   "source": [
    "visa_df=pd.read_csv(\"visadataset.csv\")\n",
    "visa_df.head()"
   ]
  },
  {
   "cell_type": "markdown",
   "id": "4185b67a-cbbc-45c9-9f7c-0a4bbf4bc83f",
   "metadata": {},
   "source": [
    "**Convert numerical and Categorical columns**"
   ]
  },
  {
   "cell_type": "code",
   "execution_count": 3,
   "id": "594eade2-8b57-467d-9fa4-d6383a580657",
   "metadata": {},
   "outputs": [
    {
     "data": {
      "text/plain": [
       "Index(['no_of_employees', 'yr_of_estab', 'prevailing_wage'], dtype='object')"
      ]
     },
     "execution_count": 3,
     "metadata": {},
     "output_type": "execute_result"
    }
   ],
   "source": [
    "cat_columns=visa_df.select_dtypes(include='object').columns\n",
    "num_columns=visa_df.select_dtypes(exclude='object').columns\n",
    "num_columns"
   ]
  },
  {
   "cell_type": "markdown",
   "id": "e7ddbfde-29f9-4a92-8f7d-a3baa9dfe93a",
   "metadata": {},
   "source": [
    "**prevailing_wage**"
   ]
  },
  {
   "cell_type": "code",
   "execution_count": 4,
   "id": "a0edb92a-963e-4258-89e6-e634ff63c605",
   "metadata": {},
   "outputs": [
    {
     "data": {
      "text/html": [
       "<div>\n",
       "<style scoped>\n",
       "    .dataframe tbody tr th:only-of-type {\n",
       "        vertical-align: middle;\n",
       "    }\n",
       "\n",
       "    .dataframe tbody tr th {\n",
       "        vertical-align: top;\n",
       "    }\n",
       "\n",
       "    .dataframe thead th {\n",
       "        text-align: right;\n",
       "    }\n",
       "</style>\n",
       "<table border=\"1\" class=\"dataframe\">\n",
       "  <thead>\n",
       "    <tr style=\"text-align: right;\">\n",
       "      <th></th>\n",
       "      <th>prevailing_wage</th>\n",
       "    </tr>\n",
       "  </thead>\n",
       "  <tbody>\n",
       "    <tr>\n",
       "      <th>0</th>\n",
       "      <td>592.2029</td>\n",
       "    </tr>\n",
       "    <tr>\n",
       "      <th>1</th>\n",
       "      <td>83425.6500</td>\n",
       "    </tr>\n",
       "    <tr>\n",
       "      <th>2</th>\n",
       "      <td>122996.8600</td>\n",
       "    </tr>\n",
       "    <tr>\n",
       "      <th>3</th>\n",
       "      <td>83434.0300</td>\n",
       "    </tr>\n",
       "    <tr>\n",
       "      <th>4</th>\n",
       "      <td>149907.3900</td>\n",
       "    </tr>\n",
       "    <tr>\n",
       "      <th>...</th>\n",
       "      <td>...</td>\n",
       "    </tr>\n",
       "    <tr>\n",
       "      <th>25475</th>\n",
       "      <td>77092.5700</td>\n",
       "    </tr>\n",
       "    <tr>\n",
       "      <th>25476</th>\n",
       "      <td>279174.7900</td>\n",
       "    </tr>\n",
       "    <tr>\n",
       "      <th>25477</th>\n",
       "      <td>146298.8500</td>\n",
       "    </tr>\n",
       "    <tr>\n",
       "      <th>25478</th>\n",
       "      <td>86154.7700</td>\n",
       "    </tr>\n",
       "    <tr>\n",
       "      <th>25479</th>\n",
       "      <td>70876.9100</td>\n",
       "    </tr>\n",
       "  </tbody>\n",
       "</table>\n",
       "<p>25480 rows × 1 columns</p>\n",
       "</div>"
      ],
      "text/plain": [
       "       prevailing_wage\n",
       "0             592.2029\n",
       "1           83425.6500\n",
       "2          122996.8600\n",
       "3           83434.0300\n",
       "4          149907.3900\n",
       "...                ...\n",
       "25475       77092.5700\n",
       "25476      279174.7900\n",
       "25477      146298.8500\n",
       "25478       86154.7700\n",
       "25479       70876.9100\n",
       "\n",
       "[25480 rows x 1 columns]"
      ]
     },
     "execution_count": 4,
     "metadata": {},
     "output_type": "execute_result"
    }
   ],
   "source": [
    "visa_df.loc[:'prevailing_wage']\n",
    "visa_df.iloc[:,[8]]\n",
    "visa_df['prevailing_wage']\n",
    "visa_df[['prevailing_wage']]"
   ]
  },
  {
   "cell_type": "markdown",
   "id": "30619dcc-04b0-48ea-9a0b-5090a4c5ad2e",
   "metadata": {},
   "source": [
    "- len\n",
    "- min\n",
    "- max\n",
    "- average(mean)\n",
    "- standard deviation std\n",
    "- median\n",
    "- 25p\n",
    "- 50p\n",
    "- 75p"
   ]
  },
  {
   "cell_type": "code",
   "execution_count": 5,
   "id": "21a15ce1-7692-4bf5-ba4a-865305ce7694",
   "metadata": {},
   "outputs": [
    {
     "data": {
      "text/plain": [
       "25480"
      ]
     },
     "execution_count": 5,
     "metadata": {},
     "output_type": "execute_result"
    }
   ],
   "source": [
    "len(visa_df['prevailing_wage'])"
   ]
  },
  {
   "cell_type": "markdown",
   "id": "352d512e-2304-4179-a911-3b641214e1bd",
   "metadata": {},
   "source": [
    "**min**"
   ]
  },
  {
   "cell_type": "code",
   "execution_count": 6,
   "id": "d97ad64d-af61-477a-81e3-75f6e9bf79ae",
   "metadata": {},
   "outputs": [
    {
     "data": {
      "text/plain": [
       "2.1367"
      ]
     },
     "execution_count": 6,
     "metadata": {},
     "output_type": "execute_result"
    }
   ],
   "source": [
    "min(visa_df['prevailing_wage'])"
   ]
  },
  {
   "cell_type": "markdown",
   "id": "ecdd028f-059d-4068-a3a3-1047c63854a7",
   "metadata": {},
   "source": [
    "**max**"
   ]
  },
  {
   "cell_type": "code",
   "execution_count": 7,
   "id": "a0d7066b-2a55-4354-bb9b-e87a850ef490",
   "metadata": {},
   "outputs": [
    {
     "data": {
      "text/plain": [
       "319210.27"
      ]
     },
     "execution_count": 7,
     "metadata": {},
     "output_type": "execute_result"
    }
   ],
   "source": [
    "max(visa_df['prevailing_wage'])"
   ]
  },
  {
   "cell_type": "code",
   "execution_count": 8,
   "id": "273f018a-9013-4ebf-8453-c9b19f14c896",
   "metadata": {},
   "outputs": [
    {
     "name": "stdout",
     "output_type": "stream",
     "text": [
      "the number of wage samples are: 25480\n",
      "the minimum wage is: 2.1367\n",
      "the maximum eage is: 319210.27\n"
     ]
    }
   ],
   "source": [
    "count=len(visa_df['prevailing_wage'])\n",
    "min_wage=min(visa_df['prevailing_wage'])\n",
    "max_wage=max(visa_df['prevailing_wage'])\n",
    "print(\"the number of wage samples are:\",count)\n",
    "print(\"the minimum wage is:\",min_wage)\n",
    "print(\"the maximum eage is:\", max_wage)"
   ]
  },
  {
   "cell_type": "markdown",
   "id": "e156e55a-5bf2-4c21-a6ab-1cfd50f8cf3e",
   "metadata": {},
   "source": [
    "**mean**"
   ]
  },
  {
   "cell_type": "code",
   "execution_count": 9,
   "id": "08d8a555-28bc-48e1-b496-b0c59bf7142f",
   "metadata": {},
   "outputs": [
    {
     "data": {
      "text/plain": [
       "prevailing_wage    74455.814592\n",
       "dtype: float64"
      ]
     },
     "execution_count": 9,
     "metadata": {},
     "output_type": "execute_result"
    }
   ],
   "source": [
    "(visa_df[['prevailing_wage']].mean())"
   ]
  },
  {
   "cell_type": "code",
   "execution_count": 10,
   "id": "a17f23a9-ba41-4810-98b3-bf37eaac57c4",
   "metadata": {},
   "outputs": [
    {
     "data": {
      "text/plain": [
       "74455.81459209183"
      ]
     },
     "execution_count": 10,
     "metadata": {},
     "output_type": "execute_result"
    }
   ],
   "source": [
    "visa_df['prevailing_wage'].mean()"
   ]
  },
  {
   "cell_type": "markdown",
   "id": "f70ebe6e-c29d-485e-8319-61f9a055744d",
   "metadata": {},
   "source": [
    "**median**"
   ]
  },
  {
   "cell_type": "code",
   "execution_count": 11,
   "id": "254eb22a-b211-4cf6-98f9-34e5b58c4940",
   "metadata": {},
   "outputs": [
    {
     "data": {
      "text/plain": [
       "70308.20999999999"
      ]
     },
     "execution_count": 11,
     "metadata": {},
     "output_type": "execute_result"
    }
   ],
   "source": [
    "visa_df['prevailing_wage'].median()"
   ]
  },
  {
   "cell_type": "code",
   "execution_count": 12,
   "id": "1ccdfb3d-eadd-4c77-95e3-41a99e77ab80",
   "metadata": {},
   "outputs": [
    {
     "name": "stdout",
     "output_type": "stream",
     "text": [
      "the average wage is: 74455.81\n",
      "the median wage is: 70308.21\n"
     ]
    }
   ],
   "source": [
    "mean_wage=round(visa_df['prevailing_wage'].mean(),2)\n",
    "median_wage=round(visa_df['prevailing_wage'].median(),2)\n",
    "print(\"the average wage is:\",mean_wage)\n",
    "print(\"the median wage is:\",median_wage)"
   ]
  },
  {
   "cell_type": "markdown",
   "id": "10474fa6-58fd-4195-8020-3737a11c8d62",
   "metadata": {},
   "source": [
    "- mode is not suitable metric for numeric analysis\n",
    "- differnt observation can have same value"
   ]
  },
  {
   "cell_type": "markdown",
   "id": "34481cb7-03cb-42a0-9804-395fddda1f23",
   "metadata": {},
   "source": [
    "**using numpy**"
   ]
  },
  {
   "cell_type": "code",
   "execution_count": 13,
   "id": "119520bf-a419-498b-bf3d-af0fc4c20719",
   "metadata": {},
   "outputs": [
    {
     "data": {
      "text/plain": [
       "74455.81459209183"
      ]
     },
     "execution_count": 13,
     "metadata": {},
     "output_type": "execute_result"
    }
   ],
   "source": [
    "np.mean(visa_df['prevailing_wage'])"
   ]
  },
  {
   "cell_type": "code",
   "execution_count": 15,
   "id": "47e6bcad-b2a6-4f14-80b4-aed8266f6ca3",
   "metadata": {},
   "outputs": [
    {
     "data": {
      "text/plain": [
       "70308.20999999999"
      ]
     },
     "execution_count": 15,
     "metadata": {},
     "output_type": "execute_result"
    }
   ],
   "source": [
    "np.median(visa_df['prevailing_wage'])"
   ]
  },
  {
   "cell_type": "markdown",
   "id": "7ae0b3ec-581b-4059-a9ca-c4c0ea27f91c",
   "metadata": {},
   "source": [
    "**Standard Deviation STD**"
   ]
  },
  {
   "cell_type": "code",
   "execution_count": 16,
   "id": "2228f44f-f24e-4a98-b715-09186508584a",
   "metadata": {},
   "outputs": [
    {
     "data": {
      "text/plain": [
       "52815.94232687357"
      ]
     },
     "execution_count": 16,
     "metadata": {},
     "output_type": "execute_result"
    }
   ],
   "source": [
    "(visa_df['prevailing_wage'].std())"
   ]
  },
  {
   "cell_type": "code",
   "execution_count": 17,
   "id": "a25dc1a6-434d-4de1-a4e4-68dbf39d4e61",
   "metadata": {},
   "outputs": [
    {
     "data": {
      "text/plain": [
       "52815.94"
      ]
     },
     "execution_count": 17,
     "metadata": {},
     "output_type": "execute_result"
    }
   ],
   "source": [
    "std_wage=round(visa_df['prevailing_wage'].std(),2)\n",
    "std_wage"
   ]
  },
  {
   "cell_type": "code",
   "execution_count": 18,
   "id": "7c967bc9-336f-4823-8184-9a55ba9a97e2",
   "metadata": {},
   "outputs": [],
   "source": [
    "count=len(visa_df['prevailing_wage'])\n",
    "min_wage=min(visa_df['prevailing_wage'])\n",
    "max_wage=max(visa_df['prevailing_wage'])\n",
    "mean_wage=round(visa_df['prevailing_wage'].mean(),2)\n",
    "median_wage=round(visa_df['prevailing_wage'].median(),2)\n",
    "std_wage=round(visa_df['prevailing_wage'].std(),2)"
   ]
  },
  {
   "cell_type": "code",
   "execution_count": 19,
   "id": "ecc1219a-9876-4c3d-9902-f6760e704f72",
   "metadata": {},
   "outputs": [
    {
     "data": {
      "text/html": [
       "<div>\n",
       "<style scoped>\n",
       "    .dataframe tbody tr th:only-of-type {\n",
       "        vertical-align: middle;\n",
       "    }\n",
       "\n",
       "    .dataframe tbody tr th {\n",
       "        vertical-align: top;\n",
       "    }\n",
       "\n",
       "    .dataframe thead th {\n",
       "        text-align: right;\n",
       "    }\n",
       "</style>\n",
       "<table border=\"1\" class=\"dataframe\">\n",
       "  <thead>\n",
       "    <tr style=\"text-align: right;\">\n",
       "      <th></th>\n",
       "      <th>prevailing_wage</th>\n",
       "    </tr>\n",
       "  </thead>\n",
       "  <tbody>\n",
       "    <tr>\n",
       "      <th>count</th>\n",
       "      <td>25480.0000</td>\n",
       "    </tr>\n",
       "    <tr>\n",
       "      <th>min</th>\n",
       "      <td>2.1367</td>\n",
       "    </tr>\n",
       "    <tr>\n",
       "      <th>max</th>\n",
       "      <td>319210.2700</td>\n",
       "    </tr>\n",
       "    <tr>\n",
       "      <th>mean</th>\n",
       "      <td>74455.8100</td>\n",
       "    </tr>\n",
       "    <tr>\n",
       "      <th>median</th>\n",
       "      <td>70308.2100</td>\n",
       "    </tr>\n",
       "    <tr>\n",
       "      <th>std</th>\n",
       "      <td>52815.9400</td>\n",
       "    </tr>\n",
       "  </tbody>\n",
       "</table>\n",
       "</div>"
      ],
      "text/plain": [
       "        prevailing_wage\n",
       "count        25480.0000\n",
       "min              2.1367\n",
       "max         319210.2700\n",
       "mean         74455.8100\n",
       "median       70308.2100\n",
       "std          52815.9400"
      ]
     },
     "execution_count": 19,
     "metadata": {},
     "output_type": "execute_result"
    }
   ],
   "source": [
    "# step-1: create empty list ,keep all the values in a list\n",
    "# step02: create a index list=['count','min','max']\n",
    "# step-4: create a cols list=['pwage']\n",
    "values=[count,min_wage,max_wage,mean_wage,median_wage,std_wage]\n",
    "index=['count','min','max','mean','median','std']\n",
    "cols=['prevailing_wage']\n",
    "pd.DataFrame(values,index=index,columns=cols)"
   ]
  },
  {
   "cell_type": "code",
   "execution_count": 20,
   "id": "43e00f23-6865-4327-8d33-abbc9216691a",
   "metadata": {},
   "outputs": [
    {
     "data": {
      "text/html": [
       "<div>\n",
       "<style scoped>\n",
       "    .dataframe tbody tr th:only-of-type {\n",
       "        vertical-align: middle;\n",
       "    }\n",
       "\n",
       "    .dataframe tbody tr th {\n",
       "        vertical-align: top;\n",
       "    }\n",
       "\n",
       "    .dataframe thead th {\n",
       "        text-align: right;\n",
       "    }\n",
       "</style>\n",
       "<table border=\"1\" class=\"dataframe\">\n",
       "  <thead>\n",
       "    <tr style=\"text-align: right;\">\n",
       "      <th></th>\n",
       "      <th>no_of_employees</th>\n",
       "      <th>yr_of_estab</th>\n",
       "      <th>prevailing_wage</th>\n",
       "    </tr>\n",
       "  </thead>\n",
       "  <tbody>\n",
       "    <tr>\n",
       "      <th>count</th>\n",
       "      <td>25480.000000</td>\n",
       "      <td>25480.000000</td>\n",
       "      <td>25480.000000</td>\n",
       "    </tr>\n",
       "    <tr>\n",
       "      <th>mean</th>\n",
       "      <td>5667.043210</td>\n",
       "      <td>1979.409929</td>\n",
       "      <td>74455.814592</td>\n",
       "    </tr>\n",
       "    <tr>\n",
       "      <th>std</th>\n",
       "      <td>22877.928848</td>\n",
       "      <td>42.366929</td>\n",
       "      <td>52815.942327</td>\n",
       "    </tr>\n",
       "    <tr>\n",
       "      <th>min</th>\n",
       "      <td>-26.000000</td>\n",
       "      <td>1800.000000</td>\n",
       "      <td>2.136700</td>\n",
       "    </tr>\n",
       "    <tr>\n",
       "      <th>25%</th>\n",
       "      <td>1022.000000</td>\n",
       "      <td>1976.000000</td>\n",
       "      <td>34015.480000</td>\n",
       "    </tr>\n",
       "    <tr>\n",
       "      <th>50%</th>\n",
       "      <td>2109.000000</td>\n",
       "      <td>1997.000000</td>\n",
       "      <td>70308.210000</td>\n",
       "    </tr>\n",
       "    <tr>\n",
       "      <th>75%</th>\n",
       "      <td>3504.000000</td>\n",
       "      <td>2005.000000</td>\n",
       "      <td>107735.512500</td>\n",
       "    </tr>\n",
       "    <tr>\n",
       "      <th>max</th>\n",
       "      <td>602069.000000</td>\n",
       "      <td>2016.000000</td>\n",
       "      <td>319210.270000</td>\n",
       "    </tr>\n",
       "  </tbody>\n",
       "</table>\n",
       "</div>"
      ],
      "text/plain": [
       "       no_of_employees   yr_of_estab  prevailing_wage\n",
       "count     25480.000000  25480.000000     25480.000000\n",
       "mean       5667.043210   1979.409929     74455.814592\n",
       "std       22877.928848     42.366929     52815.942327\n",
       "min         -26.000000   1800.000000         2.136700\n",
       "25%        1022.000000   1976.000000     34015.480000\n",
       "50%        2109.000000   1997.000000     70308.210000\n",
       "75%        3504.000000   2005.000000    107735.512500\n",
       "max      602069.000000   2016.000000    319210.270000"
      ]
     },
     "execution_count": 20,
     "metadata": {},
     "output_type": "execute_result"
    }
   ],
   "source": [
    "visa_df.describe()"
   ]
  },
  {
   "cell_type": "markdown",
   "id": "6ec43374-8892-492f-a5d5-916c0563c7a0",
   "metadata": {},
   "source": [
    "**25p-50p-75p**"
   ]
  },
  {
   "cell_type": "markdown",
   "id": "2925eac6-7572-4127-b621-f98d644a339f",
   "metadata": {},
   "source": [
    "**percentile**\n",
    "\n",
    "- in numpy we have percentile\n",
    "\n",
    "- the method is np.percentile()\n",
    "\n",
    "        - it takes the two arguments\n",
    "  \n",
    "        - a: array means data\n",
    "  \n",
    "        - q value which percentile data we want, that value we need to provide\n",
    "  \n",
    "        - if we want 25p value then q=25\n",
    "\n",
    "**quantile**\n",
    "\n",
    "- in numpy we have quantile\n",
    "\n",
    "- the method is np.quantile()\n",
    "\n",
    "        - it takes the two arguments\n",
    "  \n",
    "        - a: array means data\n",
    "  \n",
    "        - q value which percentile data we want, that value we need to provide\n",
    "  \n",
    "        - if we want 25p value then q=0.25\n",
    "  \n",
    "        - if we want 50p value then q=0.50"
   ]
  },
  {
   "cell_type": "code",
   "execution_count": 21,
   "id": "7876bfc4-ac57-4be7-9baa-4fff711f4370",
   "metadata": {},
   "outputs": [
    {
     "data": {
      "text/plain": [
       "34015.479999999996"
      ]
     },
     "execution_count": 21,
     "metadata": {},
     "output_type": "execute_result"
    }
   ],
   "source": [
    "np.percentile(visa_df['prevailing_wage'],25)"
   ]
  },
  {
   "cell_type": "code",
   "execution_count": 22,
   "id": "1113a6d4-a88a-47b7-9d9f-f455f343d6f3",
   "metadata": {},
   "outputs": [
    {
     "data": {
      "text/plain": [
       "42032.848999999995"
      ]
     },
     "execution_count": 22,
     "metadata": {},
     "output_type": "execute_result"
    }
   ],
   "source": [
    "np.percentile(visa_df['prevailing_wage'],30)"
   ]
  },
  {
   "cell_type": "code",
   "execution_count": 23,
   "id": "f6e8de57-ff2e-4ab0-ab66-bbdcbab72d02",
   "metadata": {},
   "outputs": [
    {
     "data": {
      "text/plain": [
       "34015.479999999996"
      ]
     },
     "execution_count": 23,
     "metadata": {},
     "output_type": "execute_result"
    }
   ],
   "source": [
    "np.quantile(visa_df['prevailing_wage'],0.25)"
   ]
  },
  {
   "cell_type": "code",
   "execution_count": 24,
   "id": "3f3833eb-80a0-4a5a-bcc8-44512ed9d5ac",
   "metadata": {},
   "outputs": [
    {
     "data": {
      "text/plain": [
       "70308.20999999999"
      ]
     },
     "execution_count": 24,
     "metadata": {},
     "output_type": "execute_result"
    }
   ],
   "source": [
    "np.quantile(visa_df['prevailing_wage'],0.50)"
   ]
  },
  {
   "cell_type": "code",
   "execution_count": 25,
   "id": "aa7c6023-0bcf-4507-83be-835d4cb82d43",
   "metadata": {},
   "outputs": [
    {
     "data": {
      "text/plain": [
       "42032.848999999995"
      ]
     },
     "execution_count": 25,
     "metadata": {},
     "output_type": "execute_result"
    }
   ],
   "source": [
    "np.quantile(visa_df['prevailing_wage'],0.30)"
   ]
  },
  {
   "cell_type": "code",
   "execution_count": 26,
   "id": "41cafcd8-e3e5-4777-9b48-636d5390ca9d",
   "metadata": {},
   "outputs": [
    {
     "name": "stdout",
     "output_type": "stream",
     "text": [
      "25p  is: 34015.48\n",
      "50p value is: 70308.21\n",
      "75p value is: 107735.51\n"
     ]
    }
   ],
   "source": [
    "wage_25p=round(np.percentile(visa_df['prevailing_wage'],25),2)\n",
    "wage_50p=round(np.percentile(visa_df['prevailing_wage'],50),2)\n",
    "wage_75p=round(np.percentile(visa_df['prevailing_wage'],75),2)\n",
    "print(\"25p  is:\",wage_25p)\n",
    "print(\"50p value is:\",wage_50p)\n",
    "print(\"75p value is:\",wage_75p)"
   ]
  },
  {
   "cell_type": "code",
   "execution_count": 27,
   "id": "315eb4f2-11ee-46a4-93bb-86ada3570bb9",
   "metadata": {},
   "outputs": [
    {
     "data": {
      "text/html": [
       "<div>\n",
       "<style scoped>\n",
       "    .dataframe tbody tr th:only-of-type {\n",
       "        vertical-align: middle;\n",
       "    }\n",
       "\n",
       "    .dataframe tbody tr th {\n",
       "        vertical-align: top;\n",
       "    }\n",
       "\n",
       "    .dataframe thead th {\n",
       "        text-align: right;\n",
       "    }\n",
       "</style>\n",
       "<table border=\"1\" class=\"dataframe\">\n",
       "  <thead>\n",
       "    <tr style=\"text-align: right;\">\n",
       "      <th></th>\n",
       "      <th>prevailing_wage</th>\n",
       "    </tr>\n",
       "  </thead>\n",
       "  <tbody>\n",
       "    <tr>\n",
       "      <th>count</th>\n",
       "      <td>25480.0000</td>\n",
       "    </tr>\n",
       "    <tr>\n",
       "      <th>min</th>\n",
       "      <td>2.1367</td>\n",
       "    </tr>\n",
       "    <tr>\n",
       "      <th>max</th>\n",
       "      <td>319210.2700</td>\n",
       "    </tr>\n",
       "    <tr>\n",
       "      <th>mean</th>\n",
       "      <td>74455.8100</td>\n",
       "    </tr>\n",
       "    <tr>\n",
       "      <th>median</th>\n",
       "      <td>70308.2100</td>\n",
       "    </tr>\n",
       "    <tr>\n",
       "      <th>std</th>\n",
       "      <td>52815.9400</td>\n",
       "    </tr>\n",
       "    <tr>\n",
       "      <th>25p</th>\n",
       "      <td>34015.4800</td>\n",
       "    </tr>\n",
       "    <tr>\n",
       "      <th>50p</th>\n",
       "      <td>70308.2100</td>\n",
       "    </tr>\n",
       "    <tr>\n",
       "      <th>75p</th>\n",
       "      <td>107735.5100</td>\n",
       "    </tr>\n",
       "  </tbody>\n",
       "</table>\n",
       "</div>"
      ],
      "text/plain": [
       "        prevailing_wage\n",
       "count        25480.0000\n",
       "min              2.1367\n",
       "max         319210.2700\n",
       "mean         74455.8100\n",
       "median       70308.2100\n",
       "std          52815.9400\n",
       "25p          34015.4800\n",
       "50p          70308.2100\n",
       "75p         107735.5100"
      ]
     },
     "execution_count": 27,
     "metadata": {},
     "output_type": "execute_result"
    }
   ],
   "source": [
    "values=[count,min_wage,max_wage,mean_wage,median_wage,std_wage,wage_25p,wage_50p,wage_75p]\n",
    "index=['count','min','max','mean','median','std','25p','50p','75p']\n",
    "cols=['prevailing_wage']\n",
    "pd.DataFrame(values,index=index,columns=cols)"
   ]
  },
  {
   "cell_type": "code",
   "execution_count": 28,
   "id": "47bedde0-5cf5-4f1f-8402-05b638587661",
   "metadata": {},
   "outputs": [],
   "source": [
    "df1=pd.DataFrame()\n",
    "for i in num_columns:\n",
    "    count=len(visa_df[i])\n",
    "    min_wage=min(visa_df[i])\n",
    "    max_wage=max(visa_df[i])\n",
    "    mean_wage=round(visa_df[i].mean(),2)\n",
    "    median_wage=round(visa_df[i].median(),2)\n",
    "    std_wage=round(visa_df[i].std(),2)\n",
    "    wage_25p=round(np.percentile(visa_df[i],25),2)\n",
    "    wage_50p=round(np.percentile(visa_df[i],50),2)\n",
    "    wage_75p=round(np.percentile(visa_df[i],75),2)\n",
    "    values=[count,min_wage,max_wage,\n",
    "            mean_wage,median_wage,std_wage,wage_25p,wage_50p,wage_75p]\n",
    "    index=['count','min','max','mean','median','std','25p','50p','75p']\n",
    "    cols=[i]\n",
    "    df2=pd.DataFrame(values,index=index,columns=cols)\n",
    "    df1=pd.concat([df1,df2],axis=1)"
   ]
  },
  {
   "cell_type": "code",
   "execution_count": 29,
   "id": "75225796-fad6-495f-865c-642fd5c536dd",
   "metadata": {},
   "outputs": [
    {
     "data": {
      "text/html": [
       "<div>\n",
       "<style scoped>\n",
       "    .dataframe tbody tr th:only-of-type {\n",
       "        vertical-align: middle;\n",
       "    }\n",
       "\n",
       "    .dataframe tbody tr th {\n",
       "        vertical-align: top;\n",
       "    }\n",
       "\n",
       "    .dataframe thead th {\n",
       "        text-align: right;\n",
       "    }\n",
       "</style>\n",
       "<table border=\"1\" class=\"dataframe\">\n",
       "  <thead>\n",
       "    <tr style=\"text-align: right;\">\n",
       "      <th></th>\n",
       "      <th>no_of_employees</th>\n",
       "      <th>yr_of_estab</th>\n",
       "      <th>prevailing_wage</th>\n",
       "    </tr>\n",
       "  </thead>\n",
       "  <tbody>\n",
       "    <tr>\n",
       "      <th>count</th>\n",
       "      <td>25480.00</td>\n",
       "      <td>25480.00</td>\n",
       "      <td>25480.0000</td>\n",
       "    </tr>\n",
       "    <tr>\n",
       "      <th>min</th>\n",
       "      <td>-26.00</td>\n",
       "      <td>1800.00</td>\n",
       "      <td>2.1367</td>\n",
       "    </tr>\n",
       "    <tr>\n",
       "      <th>max</th>\n",
       "      <td>602069.00</td>\n",
       "      <td>2016.00</td>\n",
       "      <td>319210.2700</td>\n",
       "    </tr>\n",
       "    <tr>\n",
       "      <th>mean</th>\n",
       "      <td>5667.04</td>\n",
       "      <td>1979.41</td>\n",
       "      <td>74455.8100</td>\n",
       "    </tr>\n",
       "    <tr>\n",
       "      <th>median</th>\n",
       "      <td>2109.00</td>\n",
       "      <td>1997.00</td>\n",
       "      <td>70308.2100</td>\n",
       "    </tr>\n",
       "    <tr>\n",
       "      <th>std</th>\n",
       "      <td>22877.93</td>\n",
       "      <td>42.37</td>\n",
       "      <td>52815.9400</td>\n",
       "    </tr>\n",
       "    <tr>\n",
       "      <th>25p</th>\n",
       "      <td>1022.00</td>\n",
       "      <td>1976.00</td>\n",
       "      <td>34015.4800</td>\n",
       "    </tr>\n",
       "    <tr>\n",
       "      <th>50p</th>\n",
       "      <td>2109.00</td>\n",
       "      <td>1997.00</td>\n",
       "      <td>70308.2100</td>\n",
       "    </tr>\n",
       "    <tr>\n",
       "      <th>75p</th>\n",
       "      <td>3504.00</td>\n",
       "      <td>2005.00</td>\n",
       "      <td>107735.5100</td>\n",
       "    </tr>\n",
       "  </tbody>\n",
       "</table>\n",
       "</div>"
      ],
      "text/plain": [
       "        no_of_employees  yr_of_estab  prevailing_wage\n",
       "count          25480.00     25480.00       25480.0000\n",
       "min              -26.00      1800.00           2.1367\n",
       "max           602069.00      2016.00      319210.2700\n",
       "mean            5667.04      1979.41       74455.8100\n",
       "median          2109.00      1997.00       70308.2100\n",
       "std            22877.93        42.37       52815.9400\n",
       "25p             1022.00      1976.00       34015.4800\n",
       "50p             2109.00      1997.00       70308.2100\n",
       "75p             3504.00      2005.00      107735.5100"
      ]
     },
     "execution_count": 29,
     "metadata": {},
     "output_type": "execute_result"
    }
   ],
   "source": [
    "df1"
   ]
  },
  {
   "cell_type": "code",
   "execution_count": 30,
   "id": "8d8081a7-d940-454f-8ba0-8914977e6683",
   "metadata": {},
   "outputs": [],
   "source": [
    "# import the packages\n",
    "# and read the data\n",
    "import pandas as pd\n",
    "import numpy as np\n",
    "import matplotlib.pyplot as plt\n",
    "import seaborn as sns"
   ]
  },
  {
   "cell_type": "markdown",
   "id": "69c6c070-173a-4060-a15b-3cc9efa851aa",
   "metadata": {},
   "source": [
    "**percentiles**\n",
    "\n",
    "- 25p:\n",
    "\n",
    "    - assume that 25p value=x\n",
    "\n",
    "    - 25p of data less than that value:x\n",
    "\n",
    "- for example prevailing_wage 25p value is: 34015.47\n",
    "\n",
    "- 25 percentage of people having salary less than 34015.47\n",
    "\n",
    "- total numbers: 25480\n",
    "\n",
    "- 25 percentage of 25480=6370\n",
    "\n",
    "- which means 6370 people has salary less than 34015.47 "
   ]
  },
  {
   "cell_type": "code",
   "execution_count": 31,
   "id": "24df225c-da30-4c2f-82d5-c70270580265",
   "metadata": {},
   "outputs": [
    {
     "data": {
      "text/plain": [
       "34015.479999999996"
      ]
     },
     "execution_count": 31,
     "metadata": {},
     "output_type": "execute_result"
    }
   ],
   "source": [
    "np.percentile(visa_df['prevailing_wage'],25)"
   ]
  },
  {
   "cell_type": "code",
   "execution_count": 32,
   "id": "2d39b079-17a6-4c4a-a8ff-2c2240081840",
   "metadata": {},
   "outputs": [
    {
     "data": {
      "text/plain": [
       "6370.0"
      ]
     },
     "execution_count": 32,
     "metadata": {},
     "output_type": "execute_result"
    }
   ],
   "source": [
    "25*25480/100"
   ]
  },
  {
   "cell_type": "code",
   "execution_count": 33,
   "id": "bb660f43-d560-4261-90c3-6ee0b8ab6bd0",
   "metadata": {},
   "outputs": [
    {
     "data": {
      "text/plain": [
       "6370"
      ]
     },
     "execution_count": 33,
     "metadata": {},
     "output_type": "execute_result"
    }
   ],
   "source": [
    "# step-1: read the prevailing wage\n",
    "# step-2: provide the condition\n",
    "#         prevailing wage < percentile value\n",
    "\n",
    "wage_data=visa_df['prevailing_wage']\n",
    "p_25=np.percentile(visa_df['prevailing_wage'],25)\n",
    "con=wage_data<p_25\n",
    "len(visa_df[con])"
   ]
  },
  {
   "cell_type": "markdown",
   "id": "1c0181fc-4cbc-46cc-8b91-38340babcae7",
   "metadata": {},
   "source": [
    "- 50p:\n",
    "\n",
    "    - assume that 50p value=x\n",
    "\n",
    "    - 50p of data less than that value:x\n",
    "\n",
    "- for example prevailing_wage 50p value is: 70308\n",
    "\n",
    "- 50 percentage of people having salary less than 70308\n",
    "\n",
    "- total numbers: 25480\n",
    "\n",
    "- 50 percentage of 25480=12740\n",
    "\n",
    "- which means 12740 people has salary less than 70308"
   ]
  },
  {
   "cell_type": "code",
   "execution_count": 34,
   "id": "87079531-ff45-4c2c-8356-29662ebf85bc",
   "metadata": {},
   "outputs": [
    {
     "data": {
      "text/plain": [
       "12740"
      ]
     },
     "execution_count": 34,
     "metadata": {},
     "output_type": "execute_result"
    }
   ],
   "source": [
    "wage_data=visa_df['prevailing_wage']\n",
    "p_50=np.percentile(visa_df['prevailing_wage'],50)\n",
    "con=wage_data<p_50\n",
    "len(visa_df[con])"
   ]
  },
  {
   "cell_type": "code",
   "execution_count": 35,
   "id": "8ce95bc9-b6ba-49e4-83c0-f664d6034cec",
   "metadata": {},
   "outputs": [
    {
     "data": {
      "text/plain": [
       "19110"
      ]
     },
     "execution_count": 35,
     "metadata": {},
     "output_type": "execute_result"
    }
   ],
   "source": [
    "wage_data=visa_df['prevailing_wage']\n",
    "p_75=np.percentile(visa_df['prevailing_wage'],75)\n",
    "con=wage_data<p_75\n",
    "len(visa_df[con])"
   ]
  },
  {
   "cell_type": "code",
   "execution_count": 36,
   "id": "8a58e95f-4152-4198-b55a-d3e66749160f",
   "metadata": {},
   "outputs": [
    {
     "data": {
      "text/plain": [
       "7644"
      ]
     },
     "execution_count": 36,
     "metadata": {},
     "output_type": "execute_result"
    }
   ],
   "source": [
    "wage_data=visa_df['prevailing_wage']\n",
    "p_30=np.percentile(visa_df['prevailing_wage'],30)\n",
    "con=wage_data<p_30\n",
    "len(visa_df[con])"
   ]
  },
  {
   "cell_type": "markdown",
   "id": "144f41e0-6402-41bd-a4fa-54be9bc23c00",
   "metadata": {},
   "source": [
    "**Emperical rule**"
   ]
  },
  {
   "cell_type": "markdown",
   "id": "d99e28ba-23f2-45ed-996e-14e10cd9390a",
   "metadata": {},
   "source": [
    "- mean-1std to mean+1std:68%\n",
    "- mean-2std to mean+2std:95%\n",
    "- mean-3std to mean+3std:99.7%"
   ]
  },
  {
   "cell_type": "code",
   "execution_count": 37,
   "id": "88ccdd69-c8c4-4437-80ba-1724cc19eb0e",
   "metadata": {},
   "outputs": [
    {
     "name": "stdout",
     "output_type": "stream",
     "text": [
      "17171\n",
      "17326.4\n"
     ]
    }
   ],
   "source": [
    "# step-1: calculate the means of prevailing wage \n",
    "# step-2: calculatte the std of prevailing wage\n",
    "# step-3: lb=mean-1*std]\n",
    "# step-4: ub=mean+1*std\n",
    "# step-5: con1=data<ub\n",
    "# step-6: con2=data>ub\n",
    "# step-7: con3= con1and con2\n",
    "# step-8: data[con3]\n",
    "\n",
    "# step-9: compare with 68% 25480 count\n",
    "\n",
    "mu=visa_df['prevailing_wage'].mean()\n",
    "sigma= visa_df['prevailing_wage'].std()\n",
    "lb=mu-1*sigma\n",
    "ub=mu+1*sigma\n",
    "con1=visa_df['prevailing_wage'] < ub\n",
    "con2=visa_df['prevailing_wage'] > lb\n",
    "con3=con1 & con2\n",
    "print(len(visa_df[con3]))\n",
    "print(68*len(visa_df)/100)"
   ]
  },
  {
   "cell_type": "code",
   "execution_count": 38,
   "id": "eff87378-239d-4eca-904d-1232ec49d77b",
   "metadata": {},
   "outputs": [
    {
     "name": "stdout",
     "output_type": "stream",
     "text": [
      "24582\n",
      "24206.0\n"
     ]
    }
   ],
   "source": [
    "mu=visa_df['prevailing_wage'].mean()\n",
    "sigma= visa_df['prevailing_wage'].std()\n",
    "lb=mu-2*sigma\n",
    "ub=mu+2*sigma\n",
    "con1=visa_df['prevailing_wage'] < ub\n",
    "con2=visa_df['prevailing_wage'] > lb\n",
    "con3=con1 & con2\n",
    "print(len(visa_df[con3]))\n",
    "print(95*len(visa_df)/100)"
   ]
  },
  {
   "cell_type": "code",
   "execution_count": 39,
   "id": "ed726851-1406-4d98-9a57-703394757ddd",
   "metadata": {},
   "outputs": [
    {
     "name": "stdout",
     "output_type": "stream",
     "text": [
      "25186\n",
      "25403.56\n"
     ]
    }
   ],
   "source": [
    "mu=visa_df['prevailing_wage'].mean()\n",
    "sigma= visa_df['prevailing_wage'].std()\n",
    "lb=mu-3*sigma\n",
    "ub=mu+3*sigma\n",
    "con1=visa_df['prevailing_wage'] < ub\n",
    "con2=visa_df['prevailing_wage'] > lb\n",
    "con3=con1 & con2\n",
    "print(len(visa_df[con3]))\n",
    "print(99.7*len(visa_df)/100)"
   ]
  },
  {
   "cell_type": "code",
   "execution_count": 40,
   "id": "ad1e133f-9a5a-4849-ace0-9a460ebf0d63",
   "metadata": {},
   "outputs": [],
   "source": [
    "# import the packages\n",
    "# read the data\n",
    "import pandas as pd\n",
    "import numpy as np\n",
    "import matplotlib.pyplot as plt\n",
    "import seaborn as sns"
   ]
  },
  {
   "cell_type": "markdown",
   "id": "146f3470-f0e8-4d51-8db1-7e6cf354513c",
   "metadata": {},
   "source": [
    "**describe**"
   ]
  },
  {
   "cell_type": "code",
   "execution_count": 41,
   "id": "08e4ee1b-8002-450a-88e3-495cddfce321",
   "metadata": {},
   "outputs": [
    {
     "data": {
      "text/html": [
       "<div>\n",
       "<style scoped>\n",
       "    .dataframe tbody tr th:only-of-type {\n",
       "        vertical-align: middle;\n",
       "    }\n",
       "\n",
       "    .dataframe tbody tr th {\n",
       "        vertical-align: top;\n",
       "    }\n",
       "\n",
       "    .dataframe thead th {\n",
       "        text-align: right;\n",
       "    }\n",
       "</style>\n",
       "<table border=\"1\" class=\"dataframe\">\n",
       "  <thead>\n",
       "    <tr style=\"text-align: right;\">\n",
       "      <th></th>\n",
       "      <th>no_of_employees</th>\n",
       "      <th>yr_of_estab</th>\n",
       "      <th>prevailing_wage</th>\n",
       "    </tr>\n",
       "  </thead>\n",
       "  <tbody>\n",
       "    <tr>\n",
       "      <th>count</th>\n",
       "      <td>25480.000000</td>\n",
       "      <td>25480.000000</td>\n",
       "      <td>25480.000000</td>\n",
       "    </tr>\n",
       "    <tr>\n",
       "      <th>mean</th>\n",
       "      <td>5667.043210</td>\n",
       "      <td>1979.409929</td>\n",
       "      <td>74455.814592</td>\n",
       "    </tr>\n",
       "    <tr>\n",
       "      <th>std</th>\n",
       "      <td>22877.928848</td>\n",
       "      <td>42.366929</td>\n",
       "      <td>52815.942327</td>\n",
       "    </tr>\n",
       "    <tr>\n",
       "      <th>min</th>\n",
       "      <td>-26.000000</td>\n",
       "      <td>1800.000000</td>\n",
       "      <td>2.136700</td>\n",
       "    </tr>\n",
       "    <tr>\n",
       "      <th>25%</th>\n",
       "      <td>1022.000000</td>\n",
       "      <td>1976.000000</td>\n",
       "      <td>34015.480000</td>\n",
       "    </tr>\n",
       "    <tr>\n",
       "      <th>50%</th>\n",
       "      <td>2109.000000</td>\n",
       "      <td>1997.000000</td>\n",
       "      <td>70308.210000</td>\n",
       "    </tr>\n",
       "    <tr>\n",
       "      <th>75%</th>\n",
       "      <td>3504.000000</td>\n",
       "      <td>2005.000000</td>\n",
       "      <td>107735.512500</td>\n",
       "    </tr>\n",
       "    <tr>\n",
       "      <th>max</th>\n",
       "      <td>602069.000000</td>\n",
       "      <td>2016.000000</td>\n",
       "      <td>319210.270000</td>\n",
       "    </tr>\n",
       "  </tbody>\n",
       "</table>\n",
       "</div>"
      ],
      "text/plain": [
       "       no_of_employees   yr_of_estab  prevailing_wage\n",
       "count     25480.000000  25480.000000     25480.000000\n",
       "mean       5667.043210   1979.409929     74455.814592\n",
       "std       22877.928848     42.366929     52815.942327\n",
       "min         -26.000000   1800.000000         2.136700\n",
       "25%        1022.000000   1976.000000     34015.480000\n",
       "50%        2109.000000   1997.000000     70308.210000\n",
       "75%        3504.000000   2005.000000    107735.512500\n",
       "max      602069.000000   2016.000000    319210.270000"
      ]
     },
     "execution_count": 41,
     "metadata": {},
     "output_type": "execute_result"
    }
   ],
   "source": [
    "visa_df.describe()"
   ]
  },
  {
   "cell_type": "markdown",
   "id": "04ac9306-7a8e-4912-b3c6-f4d82b30e23e",
   "metadata": {},
   "source": [
    "**Histograme**"
   ]
  },
  {
   "cell_type": "markdown",
   "id": "881c9e61-755f-4a46-966a-1dbc9296acac",
   "metadata": {},
   "source": [
    "- by applying imperical rule we obsedved slight deviatoion in the count of data\n",
    "\n",
    "- also mean is slight deviation from median\n",
    "\n",
    "- this gives an indication the data does not follows normal distribution \n",
    "\n",
    "- to understand more clarity will visualize data\n",
    "\n",
    "- its is numericqal data to plot name is **histograme**\n",
    "\n",
    "- histograme is a graph between class intervals and class interval frequency\n",
    "\n",
    "- the plot is available is **matplotlib**\n",
    "\n",
    "- the method name is **hist**"
   ]
  },
  {
   "cell_type": "code",
   "execution_count": 42,
   "id": "a74e5bae-8c18-48a8-80cb-3a809565b12b",
   "metadata": {},
   "outputs": [
    {
     "data": {
      "text/plain": [
       "(array([3863., 2175., 2676., 2828., 2889., 2792., 2485., 2066., 1452.,\n",
       "         882.,  408.,  216.,  206.,  167.,  129.,  111.,   66.,   48.,\n",
       "          10.,   11.]),\n",
       " array([2.13670000e+00, 1.59625434e+04, 3.19229500e+04, 4.78833567e+04,\n",
       "        6.38437634e+04, 7.98041700e+04, 9.57645767e+04, 1.11724983e+05,\n",
       "        1.27685390e+05, 1.43645797e+05, 1.59606203e+05, 1.75566610e+05,\n",
       "        1.91527017e+05, 2.07487423e+05, 2.23447830e+05, 2.39408237e+05,\n",
       "        2.55368643e+05, 2.71329050e+05, 2.87289457e+05, 3.03249863e+05,\n",
       "        3.19210270e+05]),\n",
       " <BarContainer object of 20 artists>)"
      ]
     },
     "execution_count": 42,
     "metadata": {},
     "output_type": "execute_result"
    },
    {
     "data": {
      "image/png": "[encoded data removed]",
      "text/plain": [
       "<Figure size 640x480 with 1 Axes>"
      ]
     },
     "metadata": {},
     "output_type": "display_data"
    }
   ],
   "source": [
    "# step-1: read the previling wage\n",
    "# step-2: plt.hist()\n",
    "\n",
    "wage_data=visa_df['prevailing_wage']\n",
    "plt.hist(wage_data,bins=20)"
   ]
  },
  {
   "cell_type": "markdown",
   "id": "ea85ae2c-c017-4930-aa65-75e8cdf5a720",
   "metadata": {},
   "source": [
    "- histograme will retun 3 values\n",
    "\n",
    "    - interval count array\n",
    "\n",
    "        - we have 20 interval, so we have 20 interval counts\n",
    "\n",
    "    - bins\n",
    "\n",
    "        - bins means number of intervals\n",
    "\n",
    "        - we have 20 intervals to need 21 values\n",
    "\n",
    "    - we will display how many intervakls are available \n",
    "\n",
    "- for examplenin the bins array the first two forms one interval\n",
    "\n",
    "- 2.136 to 15952.543 the count is 3863\n",
    "\n",
    "- 3863 observations are avialable between 2.136 to 15962.543\n",
    "\n",
    "- similarly 2175 observations are available between (15962.543,31922.95)"
   ]
  },
  {
   "cell_type": "code",
   "execution_count": 43,
   "id": "b3e248a0-51fe-4615-935c-ffa27c63db41",
   "metadata": {},
   "outputs": [
    {
     "data": {
      "text/plain": [
       "15962.5434"
      ]
     },
     "execution_count": 43,
     "metadata": {},
     "output_type": "execute_result"
    }
   ],
   "source": [
    " 1.59625434e+04"
   ]
  },
  {
   "cell_type": "code",
   "execution_count": 44,
   "id": "848ba82a-a533-4669-aa46-3fca8c38f59c",
   "metadata": {},
   "outputs": [
    {
     "data": {
      "text/plain": [
       "(15962.5434, 31922.95)"
      ]
     },
     "execution_count": 44,
     "metadata": {},
     "output_type": "execute_result"
    }
   ],
   "source": [
    " 1.59625434e+04, 3.19229500e+04"
   ]
  },
  {
   "cell_type": "code",
   "execution_count": 45,
   "id": "84e3ae3c-eb60-47ef-bf87-024a80ae97c0",
   "metadata": {
    "scrolled": true
   },
   "outputs": [
    {
     "name": "stdout",
     "output_type": "stream",
     "text": [
      "20\n",
      "21\n",
      "<BarContainer object of 20 artists>\n"
     ]
    },
    {
     "data": {
      "image/png": "[encoded data removed]",
      "text/plain": [
       "<Figure size 640x480 with 1 Axes>"
      ]
     },
     "metadata": {},
     "output_type": "display_data"
    }
   ],
   "source": [
    "wage_data=visa_df['prevailing_wage']\n",
    "count,bins,x=plt.hist(wage_data,bins=20)\n",
    "print(len(count))\n",
    "print(len(bins))\n",
    "print(x)"
   ]
  },
  {
   "cell_type": "markdown",
   "id": "0e04709a-4d8e-42f3-9cbf-5e824bf5593f",
   "metadata": {},
   "source": [
    "**verify below two statements**"
   ]
  },
  {
   "cell_type": "markdown",
   "id": "e90e8c9c-3af2-43ee-b47b-82152f8038c6",
   "metadata": {},
   "source": [
    "- 3863 observations are avialable between 2.136 to 15962.543\n",
    "\n",
    "- similarly 2175 observations are available between (15962.543 to 31922.95)"
   ]
  },
  {
   "cell_type": "code",
   "execution_count": 46,
   "id": "99ffa838-10fe-488f-a320-21f2cf88a59d",
   "metadata": {},
   "outputs": [
    {
     "data": {
      "text/plain": [
       "3863"
      ]
     },
     "execution_count": 46,
     "metadata": {},
     "output_type": "execute_result"
    }
   ],
   "source": [
    "lb=2.136\n",
    "ub=15962.543\n",
    "con1=visa_df['prevailing_wage'] < ub\n",
    "con2=visa_df['prevailing_wage'] > lb\n",
    "con3=con1 & con2\n",
    "len(visa_df[con3])"
   ]
  },
  {
   "cell_type": "code",
   "execution_count": 47,
   "id": "89ef22d4-3dfc-4187-abf9-22e285cd7701",
   "metadata": {},
   "outputs": [
    {
     "name": "stdout",
     "output_type": "stream",
     "text": [
      "2175\n"
     ]
    }
   ],
   "source": [
    "lb=1.59625434e+04\n",
    "ub=3.19229500e+04\n",
    "con1=visa_df['prevailing_wage'] < ub\n",
    "con2=visa_df['prevailing_wage'] > lb\n",
    "con3=con1 & con2\n",
    "print(len(visa_df[con3]))"
   ]
  },
  {
   "cell_type": "code",
   "execution_count": 48,
   "id": "67742cc6-af54-4f44-b1dc-bdef63cba54e",
   "metadata": {},
   "outputs": [
    {
     "data": {
      "text/plain": [
       "array([3863., 2175., 2676., 2828., 2889., 2792., 2485., 2066., 1452.,\n",
       "        882.,  408.,  216.,  206.,  167.,  129.,  111.,   66.,   48.,\n",
       "         10.,   11.])"
      ]
     },
     "execution_count": 48,
     "metadata": {},
     "output_type": "execute_result"
    }
   ],
   "source": [
    "count"
   ]
  },
  {
   "cell_type": "code",
   "execution_count": 49,
   "id": "cb2ffbbd-b5d2-4688-9345-feec81224c42",
   "metadata": {},
   "outputs": [
    {
     "data": {
      "text/plain": [
       "array([2.13670000e+00, 1.59625434e+04, 3.19229500e+04, 4.78833567e+04,\n",
       "       6.38437634e+04, 7.98041700e+04, 9.57645767e+04, 1.11724983e+05,\n",
       "       1.27685390e+05, 1.43645797e+05, 1.59606203e+05, 1.75566610e+05,\n",
       "       1.91527017e+05, 2.07487423e+05, 2.23447830e+05, 2.39408237e+05,\n",
       "       2.55368643e+05, 2.71329050e+05, 2.87289457e+05, 3.03249863e+05,\n",
       "       3.19210270e+05])"
      ]
     },
     "execution_count": 49,
     "metadata": {},
     "output_type": "execute_result"
    }
   ],
   "source": [
    "bins"
   ]
  },
  {
   "cell_type": "code",
   "execution_count": 50,
   "id": "b2b3f902-e64f-4d10-afb5-80ea357dd4c3",
   "metadata": {},
   "outputs": [
    {
     "data": {
      "image/png": "[encoded data removed]",
      "text/plain": [
       "<Figure size 640x480 with 1 Axes>"
      ]
     },
     "metadata": {},
     "output_type": "display_data"
    }
   ],
   "source": [
    "count,bins,x=plt.hist(wage_data,bins=20)"
   ]
  },
  {
   "cell_type": "code",
   "execution_count": 51,
   "id": "f1615c5e-3a38-4f8a-88c8-4e4445e90e2a",
   "metadata": {},
   "outputs": [
    {
     "data": {
      "text/html": [
       "<div>\n",
       "<style scoped>\n",
       "    .dataframe tbody tr th:only-of-type {\n",
       "        vertical-align: middle;\n",
       "    }\n",
       "\n",
       "    .dataframe tbody tr th {\n",
       "        vertical-align: top;\n",
       "    }\n",
       "\n",
       "    .dataframe thead th {\n",
       "        text-align: right;\n",
       "    }\n",
       "</style>\n",
       "<table border=\"1\" class=\"dataframe\">\n",
       "  <thead>\n",
       "    <tr style=\"text-align: right;\">\n",
       "      <th></th>\n",
       "      <th>lb</th>\n",
       "      <th>ub</th>\n",
       "      <th>count</th>\n",
       "    </tr>\n",
       "  </thead>\n",
       "  <tbody>\n",
       "    <tr>\n",
       "      <th>0</th>\n",
       "      <td>2.136700</td>\n",
       "      <td>15962.543365</td>\n",
       "      <td>0</td>\n",
       "    </tr>\n",
       "    <tr>\n",
       "      <th>1</th>\n",
       "      <td>15962.543365</td>\n",
       "      <td>31922.950030</td>\n",
       "      <td>3863</td>\n",
       "    </tr>\n",
       "    <tr>\n",
       "      <th>2</th>\n",
       "      <td>31922.950030</td>\n",
       "      <td>47883.356695</td>\n",
       "      <td>6038</td>\n",
       "    </tr>\n",
       "    <tr>\n",
       "      <th>3</th>\n",
       "      <td>47883.356695</td>\n",
       "      <td>63843.763360</td>\n",
       "      <td>8714</td>\n",
       "    </tr>\n",
       "    <tr>\n",
       "      <th>4</th>\n",
       "      <td>63843.763360</td>\n",
       "      <td>79804.170025</td>\n",
       "      <td>11542</td>\n",
       "    </tr>\n",
       "    <tr>\n",
       "      <th>5</th>\n",
       "      <td>79804.170025</td>\n",
       "      <td>95764.576690</td>\n",
       "      <td>14431</td>\n",
       "    </tr>\n",
       "    <tr>\n",
       "      <th>6</th>\n",
       "      <td>95764.576690</td>\n",
       "      <td>111724.983355</td>\n",
       "      <td>17223</td>\n",
       "    </tr>\n",
       "    <tr>\n",
       "      <th>7</th>\n",
       "      <td>111724.983355</td>\n",
       "      <td>127685.390020</td>\n",
       "      <td>19708</td>\n",
       "    </tr>\n",
       "    <tr>\n",
       "      <th>8</th>\n",
       "      <td>127685.390020</td>\n",
       "      <td>143645.796685</td>\n",
       "      <td>21774</td>\n",
       "    </tr>\n",
       "    <tr>\n",
       "      <th>9</th>\n",
       "      <td>143645.796685</td>\n",
       "      <td>159606.203350</td>\n",
       "      <td>23226</td>\n",
       "    </tr>\n",
       "    <tr>\n",
       "      <th>10</th>\n",
       "      <td>159606.203350</td>\n",
       "      <td>175566.610015</td>\n",
       "      <td>24108</td>\n",
       "    </tr>\n",
       "    <tr>\n",
       "      <th>11</th>\n",
       "      <td>175566.610015</td>\n",
       "      <td>191527.016680</td>\n",
       "      <td>24516</td>\n",
       "    </tr>\n",
       "    <tr>\n",
       "      <th>12</th>\n",
       "      <td>191527.016680</td>\n",
       "      <td>207487.423345</td>\n",
       "      <td>24732</td>\n",
       "    </tr>\n",
       "    <tr>\n",
       "      <th>13</th>\n",
       "      <td>207487.423345</td>\n",
       "      <td>223447.830010</td>\n",
       "      <td>24938</td>\n",
       "    </tr>\n",
       "    <tr>\n",
       "      <th>14</th>\n",
       "      <td>223447.830010</td>\n",
       "      <td>239408.236675</td>\n",
       "      <td>25105</td>\n",
       "    </tr>\n",
       "    <tr>\n",
       "      <th>15</th>\n",
       "      <td>239408.236675</td>\n",
       "      <td>255368.643340</td>\n",
       "      <td>25234</td>\n",
       "    </tr>\n",
       "    <tr>\n",
       "      <th>16</th>\n",
       "      <td>255368.643340</td>\n",
       "      <td>271329.050005</td>\n",
       "      <td>25345</td>\n",
       "    </tr>\n",
       "    <tr>\n",
       "      <th>17</th>\n",
       "      <td>271329.050005</td>\n",
       "      <td>287289.456670</td>\n",
       "      <td>25411</td>\n",
       "    </tr>\n",
       "    <tr>\n",
       "      <th>18</th>\n",
       "      <td>287289.456670</td>\n",
       "      <td>303249.863335</td>\n",
       "      <td>25459</td>\n",
       "    </tr>\n",
       "    <tr>\n",
       "      <th>19</th>\n",
       "      <td>303249.863335</td>\n",
       "      <td>319210.270000</td>\n",
       "      <td>25469</td>\n",
       "    </tr>\n",
       "  </tbody>\n",
       "</table>\n",
       "</div>"
      ],
      "text/plain": [
       "               lb             ub  count\n",
       "0        2.136700   15962.543365      0\n",
       "1    15962.543365   31922.950030   3863\n",
       "2    31922.950030   47883.356695   6038\n",
       "3    47883.356695   63843.763360   8714\n",
       "4    63843.763360   79804.170025  11542\n",
       "5    79804.170025   95764.576690  14431\n",
       "6    95764.576690  111724.983355  17223\n",
       "7   111724.983355  127685.390020  19708\n",
       "8   127685.390020  143645.796685  21774\n",
       "9   143645.796685  159606.203350  23226\n",
       "10  159606.203350  175566.610015  24108\n",
       "11  175566.610015  191527.016680  24516\n",
       "12  191527.016680  207487.423345  24732\n",
       "13  207487.423345  223447.830010  24938\n",
       "14  223447.830010  239408.236675  25105\n",
       "15  239408.236675  255368.643340  25234\n",
       "16  255368.643340  271329.050005  25345\n",
       "17  271329.050005  287289.456670  25411\n",
       "18  287289.456670  303249.863335  25459\n",
       "19  303249.863335  319210.270000  25469"
      ]
     },
     "execution_count": 51,
     "metadata": {},
     "output_type": "execute_result"
    }
   ],
   "source": [
    "data=[]\n",
    "for i in range(len(bins)-1):\n",
    "    lb=bins[i]\n",
    "    ub=bins[i+1]\n",
    "    con1=visa_df['prevailing_wage'] <lb\n",
    "    con2=visa_df['prevailing_wage'] <ub\n",
    "    con3=con1 & con2\n",
    "    data.append((lb,ub, round(len(visa_df[con3]))))\n",
    "\n",
    "pd.DataFrame(data,columns=['lb','ub','count'])"
   ]
  },
  {
   "cell_type": "markdown",
   "id": "35e1fe6e-cf5f-4b6e-bfb3-b4cafd4b29ff",
   "metadata": {},
   "source": [
    "**draw the histogram using seaborn try at home**"
   ]
  },
  {
   "cell_type": "code",
   "execution_count": null,
   "id": "5ffd2160-5636-448b-8cec-205f4474016b",
   "metadata": {},
   "outputs": [],
   "source": []
  },
  {
   "cell_type": "code",
   "execution_count": null,
   "id": "43d9b777-cdb6-43b4-b0ad-63571d289b0e",
   "metadata": {},
   "outputs": [],
   "source": []
  },
  {
   "cell_type": "code",
   "execution_count": null,
   "id": "85a36048-e1c8-4b27-96b2-4b231bc1ad73",
   "metadata": {},
   "outputs": [],
   "source": []
  },
  {
   "cell_type": "code",
   "execution_count": null,
   "id": "ef75bc68-cf1c-4502-9900-a9b37a43223c",
   "metadata": {},
   "outputs": [],
   "source": []
  },
  {
   "cell_type": "code",
   "execution_count": null,
   "id": "27d10e58-0b3c-43fe-b05c-c4dd3929236b",
   "metadata": {},
   "outputs": [],
   "source": []
  }
 ],
 "metadata": {
  "kernelspec": {
   "display_name": "Python 3 (ipykernel)",
   "language": "python",
   "name": "python3"
  },
  "language_info": {
   "codemirror_mode": {
    "name": "ipython",
    "version": 3
   },
   "file_extension": ".py",
   "mimetype": "text/x-python",
   "name": "python",
   "nbconvert_exporter": "python",
   "pygments_lexer": "ipython3",
   "version": "3.11.7"
  }
 },
 "nbformat": 4,
 "nbformat_minor": 5
}
